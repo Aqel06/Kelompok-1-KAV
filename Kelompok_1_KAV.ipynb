{
  "nbformat": 4,
  "nbformat_minor": 0,
  "metadata": {
    "colab": {
      "provenance": [],
      "authorship_tag": "ABX9TyOMzIK6cAxJkgir+zmYuHJe",
      "include_colab_link": true
    },
    "kernelspec": {
      "name": "python3",
      "display_name": "Python 3"
    },
    "language_info": {
      "name": "python"
    }
  },
  "cells": [
    {
      "cell_type": "markdown",
      "metadata": {
        "id": "view-in-github",
        "colab_type": "text"
      },
      "source": [
        "<a href=\"https://colab.research.google.com/github/Aqel06/Kelompok-1-KAV/blob/main/Kelompok_1_KAV.ipynb\" target=\"_parent\"><img src=\"https://colab.research.google.com/assets/colab-badge.svg\" alt=\"Open In Colab\"/></a>"
      ]
    },
    {
      "cell_type": "code",
      "source": [
        "%cd /content/Kelompok-1-KAV\n",
        "!pwd\n",
        "!ls -la\n",
        "!ls -la mir_chroma\n",
        "!ls -la scripts"
      ],
      "metadata": {
        "colab": {
          "base_uri": "https://localhost:8080/"
        },
        "id": "zk36WPHvGkkn",
        "outputId": "789a1f0c-1064-47a2-a04b-798888dd6bef"
      },
      "execution_count": 1,
      "outputs": [
        {
          "output_type": "stream",
          "name": "stdout",
          "text": [
            "[Errno 2] No such file or directory: '/content/Kelompok-1-KAV'\n",
            "/content\n",
            "/content\n",
            "total 16\n",
            "drwxr-xr-x 1 root root 4096 Oct  1 13:39 .\n",
            "drwxr-xr-x 1 root root 4096 Oct  3 12:45 ..\n",
            "drwxr-xr-x 4 root root 4096 Oct  1 13:38 .config\n",
            "drwxr-xr-x 1 root root 4096 Oct  1 13:39 sample_data\n",
            "ls: cannot access 'mir_chroma': No such file or directory\n",
            "ls: cannot access 'scripts': No such file or directory\n"
          ]
        }
      ]
    },
    {
      "cell_type": "markdown",
      "source": [
        "Struktur folder dasar"
      ],
      "metadata": {
        "id": "VXfMU-aFB1ui"
      }
    },
    {
      "cell_type": "code",
      "source": [
        "import os\n",
        "for d in [\"mir_chroma\", \"scripts\", \"data\", \"outputs\"]:\n",
        "    os.makedirs(d, exist_ok=True)\n",
        "\n",
        "with open(\"mir_chroma/__init__.py\", \"w\", encoding=\"utf-8\") as f:\n",
        "    f.write(\"# package marker\\n\")\n",
        "\n",
        "print(\"Siap. Folder & __init__ dibuat.\")"
      ],
      "metadata": {
        "colab": {
          "base_uri": "https://localhost:8080/"
        },
        "id": "LFvLv9seBxyC",
        "outputId": "b728c657-d79c-4f5e-bf70-fdd73c990010"
      },
      "execution_count": 2,
      "outputs": [
        {
          "output_type": "stream",
          "name": "stdout",
          "text": [
            "Siap. Folder & __init__ dibuat.\n"
          ]
        }
      ]
    },
    {
      "cell_type": "markdown",
      "source": [
        "1. mir_chroma/feature.py"
      ],
      "metadata": {
        "id": "opTPkNvNB-tu"
      }
    },
    {
      "cell_type": "code",
      "source": [
        "%%writefile mir_chroma/feature.py\n",
        "from __future__ import annotations\n",
        "import numpy as np\n",
        "import librosa\n",
        "\n",
        "def _normalize_chroma(C: np.ndarray, norm: str = \"l1\") -> np.ndarray:\n",
        "    if norm == \"l1\":\n",
        "        denom = np.maximum(np.sum(np.abs(C), axis=0, keepdims=True), 1e-8)\n",
        "        return C / denom\n",
        "    if norm == \"l2\":\n",
        "        denom = np.maximum(np.sqrt(np.sum(C**2, axis=0, keepdims=True)), 1e-8)\n",
        "        return C / denom\n",
        "    return C\n",
        "\n",
        "def chroma_stft(y: np.ndarray, sr: int, hop: int = 2048, n_fft: int = 4096) -> np.ndarray:\n",
        "    C = librosa.feature.chroma_stft(y=y, sr=sr, hop_length=hop, n_fft=n_fft)\n",
        "    return _normalize_chroma(C, \"l1\")\n",
        "\n",
        "def chroma_cqt(y: np.ndarray, sr: int, hop: int = 2048, bins_per_octave: int = 12) -> np.ndarray:\n",
        "    C = librosa.feature.chroma_cqt(y=y, sr=sr, hop_length=hop, bins_per_octave=bins_per_octave)\n",
        "    return _normalize_chroma(C, \"l1\")\n",
        "\n",
        "def chroma_cens(y: np.ndarray, sr: int, hop: int = 4096, win: int = 41) -> np.ndarray:\n",
        "    C = librosa.feature.chroma_cens(y=y, sr=sr, hop_length=hop, win_len=win)\n",
        "    return _normalize_chroma(C, \"l1\")\n",
        "\n",
        "def beat_sync(C: np.ndarray, y: np.ndarray, sr: int, hop: int):\n",
        "    tempo, beats = librosa.beat.beat_track(y=y, sr=sr, hop_length=hop, units=\"frames\")\n",
        "    if len(beats) < 2:\n",
        "        beats = np.arange(0, C.shape[1], 10)\n",
        "        if beats[-1] != C.shape[1]-1:\n",
        "            beats = np.append(beats, C.shape[1]-1)\n",
        "    C_sync = librosa.util.sync(C, beats, aggregate=np.mean)\n",
        "    return C_sync, beats\n",
        "\n",
        "def rotate_chroma(C: np.ndarray, k: int) -> np.ndarray:\n",
        "    return np.roll(C, shift=k, axis=0)"
      ],
      "metadata": {
        "colab": {
          "base_uri": "https://localhost:8080/"
        },
        "id": "EZfzr7cVB_SB",
        "outputId": "244056bc-f585-43ff-817e-45704866180d"
      },
      "execution_count": 3,
      "outputs": [
        {
          "output_type": "stream",
          "name": "stdout",
          "text": [
            "Writing mir_chroma/feature.py\n"
          ]
        }
      ]
    },
    {
      "cell_type": "markdown",
      "source": [
        "2. mir_chroma/templates.py"
      ],
      "metadata": {
        "id": "sfTzPQ-bCEgt"
      }
    },
    {
      "cell_type": "code",
      "source": [
        "%%writefile mir_chroma/templates.py\n",
        "from __future__ import annotations\n",
        "import numpy as np\n",
        "\n",
        "PC = [\"C\",\"C#\",\"D\",\"D#\",\"E\",\"F\",\"F#\",\"G\",\"G#\",\"A\",\"A#\",\"B\"]\n",
        "\n",
        "def rotate(vec12: np.ndarray, k: int) -> np.ndarray:\n",
        "    return np.roll(vec12, k)\n",
        "\n",
        "MAJOR_SCALE = np.array([1,0,1,0,1,1,0,1,0,1,0,1], dtype=float)\n",
        "NAT_MINOR_SCALE = np.array([1,0,1,1,0,1,0,1,1,0,1,0], dtype=float)\n",
        "\n",
        "def all_scale_templates() -> dict[str, np.ndarray]:\n",
        "    temps = {}\n",
        "    for k in range(12):\n",
        "        temps[f\"{PC[k]}:maj_scale\"] = rotate(MAJOR_SCALE, k)\n",
        "        temps[f\"{PC[k]}:min_scale\"] = rotate(NAT_MINOR_SCALE, k)\n",
        "    return temps\n",
        "\n",
        "KS_MAJOR = np.array([6.35,2.23,3.48,2.33,4.38,4.09,2.52,5.19,2.39,3.66,2.29,2.88], dtype=float)\n",
        "KS_MINOR = np.array([6.33,2.68,3.52,5.38,2.60,3.53,2.54,4.75,3.98,2.69,3.34,3.17], dtype=float)\n",
        "\n",
        "def all_key_profiles() -> dict[str, np.ndarray]:\n",
        "    profiles = {}\n",
        "    for k in range(12):\n",
        "        profiles[f\"{PC[k]}:maj\"] = rotate(KS_MAJOR, k) / KS_MAJOR.sum()\n",
        "        profiles[f\"{PC[k]}:min\"] = rotate(KS_MINOR, k) / KS_MINOR.sum()\n",
        "    return profiles\n",
        "\n",
        "def chord_template(quality: str = \"maj\", n_harm: int = 3) -> np.ndarray:\n",
        "    tones = [0, 4, 7] if quality == \"maj\" else [0, 3, 7]\n",
        "    T = np.zeros(12, dtype=float)\n",
        "    for h in range(1, n_harm+1):\n",
        "        w = 1.0 / h\n",
        "        for t in tones:\n",
        "            T[(t * h) % 12] += w\n",
        "    return T / (T.max() + 1e-9)\n",
        "\n",
        "def all_chord_templates(n_harm: int = 3) -> dict[str, np.ndarray]:\n",
        "    temps = {}\n",
        "    for k in range(12):\n",
        "        temps[f\"{PC[k]}:maj\"] = rotate(chord_template(\"maj\", n_harm), k)\n",
        "        temps[f\"{PC[k]}:min\"] = rotate(chord_template(\"min\", n_harm), k)\n",
        "    return temps"
      ],
      "metadata": {
        "colab": {
          "base_uri": "https://localhost:8080/"
        },
        "id": "o0IOfaMnCG7I",
        "outputId": "0028722a-d69a-45eb-b1f8-0007406f757d"
      },
      "execution_count": 4,
      "outputs": [
        {
          "output_type": "stream",
          "name": "stdout",
          "text": [
            "Writing mir_chroma/templates.py\n"
          ]
        }
      ]
    },
    {
      "cell_type": "markdown",
      "source": [
        "3. mir_chroma/chord_recognizer.py"
      ],
      "metadata": {
        "id": "nbZjtecrCLjI"
      }
    },
    {
      "cell_type": "code",
      "source": [
        "%%writefile mir_chroma/chord_recognizer.py\n",
        "from __future__ import annotations\n",
        "import numpy as np\n",
        "import librosa\n",
        "from typing import List, Tuple, Dict\n",
        "from .feature import chroma_cqt, chroma_stft, chroma_cens, _normalize_chroma\n",
        "from .templates import all_chord_templates\n",
        "\n",
        "def framewise_template_match(C: np.ndarray, templates: Dict[str, np.ndarray]) -> Tuple[List[str], np.ndarray]:\n",
        "    labels, scores = [], []\n",
        "    keys = list(templates.keys())\n",
        "    Tmat = np.stack([templates[k] for k in keys], axis=1)  # (12, K)\n",
        "    Tmat = _normalize_chroma(Tmat, \"l2\")\n",
        "    for t in range(C.shape[1]):\n",
        "        v = C[:, t]\n",
        "        sim = (v[:, None] * Tmat).sum(axis=0) / (np.linalg.norm(v) * np.linalg.norm(Tmat, axis=0) + 1e-9)\n",
        "        i = int(np.argmax(sim))\n",
        "        labels.append(keys[i]); scores.append(sim[i])\n",
        "    return labels, np.array(scores)\n",
        "\n",
        "def viterbi_smooth(labels: List[str], self_prob: float = 0.97) -> List[str]:\n",
        "    uniq = sorted(set(labels))\n",
        "    idx = {s:i for i,s in enumerate(uniq)}\n",
        "    nS, T = len(uniq), len(labels)\n",
        "    import math\n",
        "    log_self = math.log(self_prob)\n",
        "    log_jump = math.log((1 - self_prob) / max(nS-1, 1))\n",
        "    dp = np.full((nS, T), -np.inf)\n",
        "    back = np.full((nS, T), -1, dtype=int)\n",
        "    dp[:, 0] = 0.0\n",
        "    for t in range(1, T):\n",
        "        for s in range(nS):\n",
        "            best, arg = -np.inf, 0\n",
        "            for sp in range(nS):\n",
        "                add = log_self if s == sp else log_jump\n",
        "                val = dp[sp, t-1] + add\n",
        "                if val > best:\n",
        "                    best, arg = val, sp\n",
        "            dp[s, t] = best + (0.0 if uniq[s] == labels[t] else -1.0)\n",
        "            back[s, t] = arg\n",
        "    end = idx[labels[-1]]\n",
        "    path = [end]\n",
        "    for t in range(T-1, 0, -1):\n",
        "        path.append(back[path[-1], t])\n",
        "    path = path[::-1]\n",
        "    return [uniq[s] for s in path]\n",
        "\n",
        "def recognize_chords(y: np.ndarray, sr: int, algo: str = \"cqt\", hop: int = 2048, n_harm: int = 3, smooth: bool = True):\n",
        "    if algo == \"cqt\":\n",
        "        C = chroma_cqt(y, sr, hop)\n",
        "    elif algo == \"stft\":\n",
        "        C = chroma_stft(y, sr, hop)\n",
        "    elif algo == \"cens\":\n",
        "        C = chroma_cens(y, sr, hop)\n",
        "    else:\n",
        "        raise ValueError(\"algo must be one of: cqt, stft, cens\")\n",
        "    temps = all_chord_templates(n_harm=n_harm)\n",
        "    labels, scores = framewise_template_match(C, temps)\n",
        "    if smooth:\n",
        "        labels = viterbi_smooth(labels, self_prob=0.97)\n",
        "    times = librosa.frames_to_time(np.arange(C.shape[1]), sr=sr, hop_length=hop)\n",
        "    return times, labels, scores"
      ],
      "metadata": {
        "colab": {
          "base_uri": "https://localhost:8080/"
        },
        "id": "xIZqnNehCMkB",
        "outputId": "91013407-f4b2-4981-d72c-da18bb17622b"
      },
      "execution_count": 5,
      "outputs": [
        {
          "output_type": "stream",
          "name": "stdout",
          "text": [
            "Writing mir_chroma/chord_recognizer.py\n"
          ]
        }
      ]
    },
    {
      "cell_type": "markdown",
      "source": [
        "4. mir_chroma/key_detection.py"
      ],
      "metadata": {
        "id": "eOik77LhCO9Y"
      }
    },
    {
      "cell_type": "code",
      "source": [
        "%%writefile mir_chroma/key_detection.py\n",
        "from __future__ import annotations\n",
        "import numpy as np\n",
        "import librosa\n",
        "from typing import Tuple\n",
        "from .feature import chroma_cqt, chroma_stft, chroma_cens\n",
        "from .templates import all_key_profiles\n",
        "\n",
        "def detect_key(y: np.ndarray, sr: int, algo: str = \"stft\", hop: int = 2048) -> Tuple[str, float]:\n",
        "    if algo == \"cqt\":\n",
        "        C = chroma_cqt(y, sr, hop)\n",
        "    elif algo == \"stft\":\n",
        "        C = chroma_stft(y, sr, hop)\n",
        "    elif algo == \"cens\":\n",
        "        C = chroma_cens(y, sr, hop)\n",
        "    else:\n",
        "        raise ValueError(\"algo must be one of: cqt, stft, cens\")\n",
        "    g = np.mean(C, axis=1); g = g / (np.linalg.norm(g) + 1e-9)\n",
        "    profiles = all_key_profiles()\n",
        "    best_key, best_score = None, -np.inf\n",
        "    for k, p in profiles.items():\n",
        "        p = p / (np.linalg.norm(p) + 1e-9)\n",
        "        s = float(np.dot(g, p))\n",
        "        if s > best_score:\n",
        "            best_key, best_score = k, s\n",
        "    return best_key, best_score"
      ],
      "metadata": {
        "colab": {
          "base_uri": "https://localhost:8080/"
        },
        "id": "4mcbIjgwCRNh",
        "outputId": "cc778742-1a88-4aea-8627-0776e7fd496c"
      },
      "execution_count": 6,
      "outputs": [
        {
          "output_type": "stream",
          "name": "stdout",
          "text": [
            "Writing mir_chroma/key_detection.py\n"
          ]
        }
      ]
    },
    {
      "cell_type": "markdown",
      "source": [
        "5. mir_chroma/cover_id.py"
      ],
      "metadata": {
        "id": "SdKTWeXtClgJ"
      }
    },
    {
      "cell_type": "code",
      "source": [
        "%%writefile mir_chroma/cover_id.py\n",
        "from __future__ import annotations\n",
        "import numpy as np\n",
        "import librosa\n",
        "from .feature import chroma_cqt, chroma_stft, chroma_cens, beat_sync, rotate_chroma\n",
        "\n",
        "def _cosine_cs(X: np.ndarray, Y: np.ndarray) -> np.ndarray:\n",
        "    Xn = X / (np.linalg.norm(X, axis=0, keepdims=True) + 1e-9)\n",
        "    Yn = Y / (np.linalg.norm(Y, axis=0, keepdims=True) + 1e-9)\n",
        "    return np.dot(Xn.T, Yn)  # (T1 x T2)\n",
        "\n",
        "def _dtw_distance(S: np.ndarray, band: int | None = None) -> float:\n",
        "    C = 1.0 - S\n",
        "    N, M = C.shape\n",
        "    D = np.full((N+1, M+1), np.inf); D[0,0] = 0.0\n",
        "    for i in range(1, N+1):\n",
        "        j_start = 1 if band is None else max(1, i - band)\n",
        "        j_end   = M+1 if band is None else min(M+1, i + band + 1)\n",
        "        for j in range(j_start, j_end):\n",
        "            D[i,j] = C[i-1,j-1] + min(D[i-1,j], D[i,j-1], D[i-1,j-1])\n",
        "    return float(D[N,M] / (N + M))\n",
        "\n",
        "def cover_similarity(y1: np.ndarray, sr1: int, y2: np.ndarray, sr2: int, algo: str = \"cens\", hop: int = 4096):\n",
        "    y1 = librosa.to_mono(y1); y2 = librosa.to_mono(y2)\n",
        "    if sr1 != sr2:\n",
        "        y2 = librosa.resample(y2, orig_sr=sr2, target_sr=sr1); sr2 = sr1\n",
        "    if algo == \"cqt\":\n",
        "        C1 = chroma_cqt(y1, sr1, hop); C2 = chroma_cqt(y2, sr2, hop)\n",
        "    elif algo == \"stft\":\n",
        "        C1 = chroma_stft(y1, sr1, hop); C2 = chroma_stft(y2, sr2, hop)\n",
        "    elif algo == \"cens\":\n",
        "        C1 = chroma_cens(y1, sr1, hop); C2 = chroma_cens(y2, sr2, hop)\n",
        "    else:\n",
        "        raise ValueError(\"algo must be one of: cqt, stft, cens\")\n",
        "\n",
        "    C1b, _ = beat_sync(C1, y1, sr1, hop)\n",
        "    C2b, _ = beat_sync(C2, y2, sr2, hop)\n",
        "\n",
        "    best_k, best_d = 0, np.inf\n",
        "    for k in range(12):\n",
        "        S = _cosine_cs(C1b, rotate_chroma(C2b, k))\n",
        "        d = _dtw_distance(S, band=None)\n",
        "        if d < best_d:\n",
        "            best_d, best_k = d, k\n",
        "    return best_k, best_d"
      ],
      "metadata": {
        "colab": {
          "base_uri": "https://localhost:8080/"
        },
        "id": "IbDu5N7DCl_e",
        "outputId": "64caf64a-ae6e-4cdd-8513-5c50c11733a5"
      },
      "execution_count": 7,
      "outputs": [
        {
          "output_type": "stream",
          "name": "stdout",
          "text": [
            "Writing mir_chroma/cover_id.py\n"
          ]
        }
      ]
    },
    {
      "cell_type": "markdown",
      "source": [
        "6. scripts/demo_chord.py"
      ],
      "metadata": {
        "id": "qJnTHFIdCsfI"
      }
    },
    {
      "cell_type": "code",
      "source": [
        "%%writefile scripts/demo_chord.py\n",
        "import argparse, os, numpy as np, librosa, matplotlib.pyplot as plt, csv\n",
        "from mir_chroma.chord_recognizer import recognize_chords\n",
        "\n",
        "p = argparse.ArgumentParser()\n",
        "p.add_argument(\"audio\")\n",
        "p.add_argument(\"--algo\", choices=[\"cqt\",\"stft\",\"cens\"], default=\"cqt\")\n",
        "p.add_argument(\"--hop\", type=int, default=2048)\n",
        "p.add_argument(\"--harm\", type=int, default=3)\n",
        "p.add_argument(\"--no-smooth\", action=\"store_true\")\n",
        "p.add_argument(\"--outdir\", default=\"outputs\")\n",
        "args = p.parse_args()\n",
        "\n",
        "y, sr = librosa.load(args.audio, sr=None, mono=True)\n",
        "times, labels, scores = recognize_chords(\n",
        "    y, sr, algo=args.algo, hop=args.hop, n_harm=args.harm, smooth=(not args.no_smooth)\n",
        ")\n",
        "\n",
        "os.makedirs(args.outdir, exist_ok=True)\n",
        "stem = os.path.splitext(os.path.basename(args.audio))[0]\n",
        "csv_path = os.path.join(args.outdir, f\"{stem}_chords.csv\")\n",
        "png_path = os.path.join(args.outdir, f\"{stem}_chords.png\")\n",
        "\n",
        "with open(csv_path, \"w\", newline=\"\", encoding=\"utf-8\") as f:\n",
        "    w = csv.writer(f); w.writerow([\"time_sec\",\"chord\",\"score\"])\n",
        "    for t, lab, sc in zip(times, labels, scores):\n",
        "        w.writerow([f\"{t:.3f}\", lab, f\"{sc:.4f}\"])\n",
        "\n",
        "plt.figure(figsize=(12,3)); plt.plot(times, scores, lw=1.5)\n",
        "plt.yticks([0,0.25,0.5,0.75,1.0]); plt.xlabel(\"Time (s)\"); plt.ylabel(\"Template match\")\n",
        "for i in range(0, len(times), max(1, len(times)//20)):\n",
        "    plt.text(times[i], 0.05, labels[i], rotation=90, fontsize=8, va=\"bottom\")\n",
        "plt.tight_layout(); plt.savefig(png_path, dpi=160)\n",
        "print(\"Saved:\", csv_path, png_path)"
      ],
      "metadata": {
        "colab": {
          "base_uri": "https://localhost:8080/"
        },
        "id": "0-feidQ9CtfH",
        "outputId": "f7308b0a-887f-4142-918c-9b7482daf391"
      },
      "execution_count": 8,
      "outputs": [
        {
          "output_type": "stream",
          "name": "stdout",
          "text": [
            "Writing scripts/demo_chord.py\n"
          ]
        }
      ]
    },
    {
      "cell_type": "markdown",
      "source": [
        "7. scripts/demo_key.py"
      ],
      "metadata": {
        "id": "y9ZPmRbHCwCK"
      }
    },
    {
      "cell_type": "code",
      "source": [
        "%%writefile scripts/demo_key.py\n",
        "import argparse, librosa\n",
        "from mir_chroma.key_detection import detect_key\n",
        "\n",
        "p = argparse.ArgumentParser()\n",
        "p.add_argument(\"audio\")\n",
        "p.add_argument(\"--algo\", choices=[\"cqt\",\"stft\",\"cens\"], default=\"stft\")\n",
        "p.add_argument(\"--hop\", type=int, default=2048)\n",
        "args = p.parse_args()\n",
        "\n",
        "y, sr = librosa.load(args.audio, sr=None, mono=True)\n",
        "key, score = detect_key(y, sr, algo=args.algo, hop=args.hop)\n",
        "print(f\"Estimated key: {key} (score={score:.4f})\")"
      ],
      "metadata": {
        "colab": {
          "base_uri": "https://localhost:8080/"
        },
        "id": "n9cLNCdNCxSq",
        "outputId": "417f4438-ec22-47c4-86c7-6f8ca565fac0"
      },
      "execution_count": 9,
      "outputs": [
        {
          "output_type": "stream",
          "name": "stdout",
          "text": [
            "Writing scripts/demo_key.py\n"
          ]
        }
      ]
    },
    {
      "cell_type": "markdown",
      "source": [
        "8. scripts/demo_cover.py"
      ],
      "metadata": {
        "id": "e12guFXPC1pE"
      }
    },
    {
      "cell_type": "code",
      "source": [
        "%%writefile scripts/demo_key.py\n",
        "import argparse, librosa\n",
        "from mir_chroma.key_detection import detect_key\n",
        "\n",
        "p = argparse.ArgumentParser()\n",
        "p.add_argument(\"audio\")\n",
        "p.add_argument(\"--algo\", choices=[\"cqt\",\"stft\",\"cens\"], default=\"stft\")\n",
        "p.add_argument(\"--hop\", type=int, default=2048)\n",
        "args = p.parse_args()\n",
        "\n",
        "y, sr = librosa.load(args.audio, sr=None, mono=True)\n",
        "key, score = detect_key(y, sr, algo=args.algo, hop=args.hop)\n",
        "print(f\"Estimated key: {key} (score={score:.4f})\")"
      ],
      "metadata": {
        "colab": {
          "base_uri": "https://localhost:8080/"
        },
        "id": "W-g4owwUC3nL",
        "outputId": "e6c32514-4723-495a-de71-550b27939953"
      },
      "execution_count": 10,
      "outputs": [
        {
          "output_type": "stream",
          "name": "stdout",
          "text": [
            "Overwriting scripts/demo_key.py\n"
          ]
        }
      ]
    },
    {
      "cell_type": "markdown",
      "source": [
        "9. requirements.txt"
      ],
      "metadata": {
        "id": "4B6YgiRPEh4P"
      }
    },
    {
      "cell_type": "code",
      "source": [
        "%%writefile requirements.txt\n",
        "librosa>=0.10.1\n",
        "numpy>=1.23\n",
        "scipy>=1.9\n",
        "matplotlib>=3.7\n",
        "soundfile>=0.12\n",
        "tqdm>=4.66"
      ],
      "metadata": {
        "colab": {
          "base_uri": "https://localhost:8080/"
        },
        "id": "jhmUb_3VElUv",
        "outputId": "f85478da-1cbe-4b00-fc19-47db0d7d59fd"
      },
      "execution_count": 11,
      "outputs": [
        {
          "output_type": "stream",
          "name": "stdout",
          "text": [
            "Writing requirements.txt\n"
          ]
        }
      ]
    },
    {
      "cell_type": "markdown",
      "source": [
        "10. Install dependensi"
      ],
      "metadata": {
        "id": "VdcvFtENEobt"
      }
    },
    {
      "cell_type": "code",
      "source": [
        "!pip install -U pip\n",
        "!pip install -r requirements.txt"
      ],
      "metadata": {
        "colab": {
          "base_uri": "https://localhost:8080/"
        },
        "id": "jcKM_t9CEqyV",
        "outputId": "1f3d6b0f-85ff-4f4b-f379-c45f0295f2fc"
      },
      "execution_count": 12,
      "outputs": [
        {
          "output_type": "stream",
          "name": "stdout",
          "text": [
            "Requirement already satisfied: pip in /usr/local/lib/python3.12/dist-packages (24.1.2)\n",
            "Collecting pip\n",
            "  Downloading pip-25.2-py3-none-any.whl.metadata (4.7 kB)\n",
            "Downloading pip-25.2-py3-none-any.whl (1.8 MB)\n",
            "\u001b[2K   \u001b[90m━━━━━━━━━━━━━━━━━━━━━━━━━━━━━━━━━━━━━━━━\u001b[0m \u001b[32m1.8/1.8 MB\u001b[0m \u001b[31m22.6 MB/s\u001b[0m eta \u001b[36m0:00:00\u001b[0m\n",
            "\u001b[?25hInstalling collected packages: pip\n",
            "  Attempting uninstall: pip\n",
            "    Found existing installation: pip 24.1.2\n",
            "    Uninstalling pip-24.1.2:\n",
            "      Successfully uninstalled pip-24.1.2\n",
            "Successfully installed pip-25.2\n",
            "Requirement already satisfied: librosa>=0.10.1 in /usr/local/lib/python3.12/dist-packages (from -r requirements.txt (line 1)) (0.11.0)\n",
            "Requirement already satisfied: numpy>=1.23 in /usr/local/lib/python3.12/dist-packages (from -r requirements.txt (line 2)) (2.0.2)\n",
            "Requirement already satisfied: scipy>=1.9 in /usr/local/lib/python3.12/dist-packages (from -r requirements.txt (line 3)) (1.16.2)\n",
            "Requirement already satisfied: matplotlib>=3.7 in /usr/local/lib/python3.12/dist-packages (from -r requirements.txt (line 4)) (3.10.0)\n",
            "Requirement already satisfied: soundfile>=0.12 in /usr/local/lib/python3.12/dist-packages (from -r requirements.txt (line 5)) (0.13.1)\n",
            "Requirement already satisfied: tqdm>=4.66 in /usr/local/lib/python3.12/dist-packages (from -r requirements.txt (line 6)) (4.67.1)\n",
            "Requirement already satisfied: audioread>=2.1.9 in /usr/local/lib/python3.12/dist-packages (from librosa>=0.10.1->-r requirements.txt (line 1)) (3.0.1)\n",
            "Requirement already satisfied: numba>=0.51.0 in /usr/local/lib/python3.12/dist-packages (from librosa>=0.10.1->-r requirements.txt (line 1)) (0.60.0)\n",
            "Requirement already satisfied: scikit-learn>=1.1.0 in /usr/local/lib/python3.12/dist-packages (from librosa>=0.10.1->-r requirements.txt (line 1)) (1.6.1)\n",
            "Requirement already satisfied: joblib>=1.0 in /usr/local/lib/python3.12/dist-packages (from librosa>=0.10.1->-r requirements.txt (line 1)) (1.5.2)\n",
            "Requirement already satisfied: decorator>=4.3.0 in /usr/local/lib/python3.12/dist-packages (from librosa>=0.10.1->-r requirements.txt (line 1)) (4.4.2)\n",
            "Requirement already satisfied: pooch>=1.1 in /usr/local/lib/python3.12/dist-packages (from librosa>=0.10.1->-r requirements.txt (line 1)) (1.8.2)\n",
            "Requirement already satisfied: soxr>=0.3.2 in /usr/local/lib/python3.12/dist-packages (from librosa>=0.10.1->-r requirements.txt (line 1)) (1.0.0)\n",
            "Requirement already satisfied: typing_extensions>=4.1.1 in /usr/local/lib/python3.12/dist-packages (from librosa>=0.10.1->-r requirements.txt (line 1)) (4.15.0)\n",
            "Requirement already satisfied: lazy_loader>=0.1 in /usr/local/lib/python3.12/dist-packages (from librosa>=0.10.1->-r requirements.txt (line 1)) (0.4)\n",
            "Requirement already satisfied: msgpack>=1.0 in /usr/local/lib/python3.12/dist-packages (from librosa>=0.10.1->-r requirements.txt (line 1)) (1.1.1)\n",
            "Requirement already satisfied: contourpy>=1.0.1 in /usr/local/lib/python3.12/dist-packages (from matplotlib>=3.7->-r requirements.txt (line 4)) (1.3.3)\n",
            "Requirement already satisfied: cycler>=0.10 in /usr/local/lib/python3.12/dist-packages (from matplotlib>=3.7->-r requirements.txt (line 4)) (0.12.1)\n",
            "Requirement already satisfied: fonttools>=4.22.0 in /usr/local/lib/python3.12/dist-packages (from matplotlib>=3.7->-r requirements.txt (line 4)) (4.60.0)\n",
            "Requirement already satisfied: kiwisolver>=1.3.1 in /usr/local/lib/python3.12/dist-packages (from matplotlib>=3.7->-r requirements.txt (line 4)) (1.4.9)\n",
            "Requirement already satisfied: packaging>=20.0 in /usr/local/lib/python3.12/dist-packages (from matplotlib>=3.7->-r requirements.txt (line 4)) (25.0)\n",
            "Requirement already satisfied: pillow>=8 in /usr/local/lib/python3.12/dist-packages (from matplotlib>=3.7->-r requirements.txt (line 4)) (11.3.0)\n",
            "Requirement already satisfied: pyparsing>=2.3.1 in /usr/local/lib/python3.12/dist-packages (from matplotlib>=3.7->-r requirements.txt (line 4)) (3.2.4)\n",
            "Requirement already satisfied: python-dateutil>=2.7 in /usr/local/lib/python3.12/dist-packages (from matplotlib>=3.7->-r requirements.txt (line 4)) (2.9.0.post0)\n",
            "Requirement already satisfied: cffi>=1.0 in /usr/local/lib/python3.12/dist-packages (from soundfile>=0.12->-r requirements.txt (line 5)) (2.0.0)\n",
            "Requirement already satisfied: pycparser in /usr/local/lib/python3.12/dist-packages (from cffi>=1.0->soundfile>=0.12->-r requirements.txt (line 5)) (2.23)\n",
            "Requirement already satisfied: llvmlite<0.44,>=0.43.0dev0 in /usr/local/lib/python3.12/dist-packages (from numba>=0.51.0->librosa>=0.10.1->-r requirements.txt (line 1)) (0.43.0)\n",
            "Requirement already satisfied: platformdirs>=2.5.0 in /usr/local/lib/python3.12/dist-packages (from pooch>=1.1->librosa>=0.10.1->-r requirements.txt (line 1)) (4.4.0)\n",
            "Requirement already satisfied: requests>=2.19.0 in /usr/local/lib/python3.12/dist-packages (from pooch>=1.1->librosa>=0.10.1->-r requirements.txt (line 1)) (2.32.4)\n",
            "Requirement already satisfied: six>=1.5 in /usr/local/lib/python3.12/dist-packages (from python-dateutil>=2.7->matplotlib>=3.7->-r requirements.txt (line 4)) (1.17.0)\n",
            "Requirement already satisfied: charset_normalizer<4,>=2 in /usr/local/lib/python3.12/dist-packages (from requests>=2.19.0->pooch>=1.1->librosa>=0.10.1->-r requirements.txt (line 1)) (3.4.3)\n",
            "Requirement already satisfied: idna<4,>=2.5 in /usr/local/lib/python3.12/dist-packages (from requests>=2.19.0->pooch>=1.1->librosa>=0.10.1->-r requirements.txt (line 1)) (3.10)\n",
            "Requirement already satisfied: urllib3<3,>=1.21.1 in /usr/local/lib/python3.12/dist-packages (from requests>=2.19.0->pooch>=1.1->librosa>=0.10.1->-r requirements.txt (line 1)) (2.5.0)\n",
            "Requirement already satisfied: certifi>=2017.4.17 in /usr/local/lib/python3.12/dist-packages (from requests>=2.19.0->pooch>=1.1->librosa>=0.10.1->-r requirements.txt (line 1)) (2025.8.3)\n",
            "Requirement already satisfied: threadpoolctl>=3.1.0 in /usr/local/lib/python3.12/dist-packages (from scikit-learn>=1.1.0->librosa>=0.10.1->-r requirements.txt (line 1)) (3.6.0)\n"
          ]
        }
      ]
    },
    {
      "cell_type": "code",
      "source": [
        "# === Generate audio sintetis: progresi Cmaj (I–IV–V–I) + cover versi transpose ===\n",
        "import numpy as np, soundfile as sf, librosa, os\n",
        "\n",
        "sr = 22050\n",
        "dur = 2.0  # durasi tiap chord (detik)\n",
        "\n",
        "def sine_tone(freq, duration, sr):\n",
        "    t = np.linspace(0, duration, int(sr*duration), endpoint=False)\n",
        "    return 0.25*np.sin(2*np.pi*freq*t)\n",
        "\n",
        "def midi_to_hz(m):\n",
        "    return 440.0 * (2.0 ** ((m - 69) / 12.0))\n",
        "\n",
        "def chord_signal(root_midi, quality=\"maj\", duration=2.0, sr=22050):\n",
        "    # Triad mayor/minor sederhana (tanpa overtone)\n",
        "    intervals = [0,4,7] if quality==\"maj\" else [0,3,7]\n",
        "    y = np.zeros(int(sr*duration))\n",
        "    for iv in intervals:\n",
        "        y += sine_tone(midi_to_hz(root_midi + iv), duration, sr)\n",
        "    y /= len(intervals)  # normalisasi biar ga clipping\n",
        "    # fade in/out ringan biar halus\n",
        "    n = len(y)\n",
        "    fade = int(0.01*sr)\n",
        "    y[:fade] *= np.linspace(0,1,fade)\n",
        "    y[-fade:] *= np.linspace(1,0,fade)\n",
        "    return y\n",
        "\n",
        "# Progresi I–IV–V–I di C mayor: C(60), F(65), G(67), C(60)\n",
        "prog = [60, 65, 67, 60]\n",
        "y = np.concatenate([chord_signal(m, \"maj\", dur, sr) for m in prog])\n",
        "\n",
        "os.makedirs(\"data\", exist_ok=True)\n",
        "ref_path = \"data/chords_Cmaj.wav\"\n",
        "sf.write(ref_path, y, sr)\n",
        "\n",
        "# Buat cover: transpose +2 semitone dan tempo +5%\n",
        "y_cov = librosa.effects.pitch_shift(y, sr=sr, n_steps=2)\n",
        "y_cov = librosa.effects.time_stretch(y_cov, rate=1.05)\n",
        "cov_path = \"data/chords_Cmaj_cover_shift2.wav\"\n",
        "sf.write(cov_path, y_cov, sr)\n",
        "\n",
        "print(\"Saved:\", ref_path, \"and\", cov_path)"
      ],
      "metadata": {
        "colab": {
          "base_uri": "https://localhost:8080/"
        },
        "id": "RetxTlMHE2ng",
        "outputId": "50efbcde-42b8-4820-e23e-e3cb797e81cf"
      },
      "execution_count": 13,
      "outputs": [
        {
          "output_type": "stream",
          "name": "stdout",
          "text": [
            "Saved: data/chords_Cmaj.wav and data/chords_Cmaj_cover_shift2.wav\n"
          ]
        }
      ]
    },
    {
      "cell_type": "code",
      "source": [
        "# CHORD RECOGNITION (pakai audio sintetis contoh)\n",
        "!python scripts/demo_chord.py data/chords_Cmaj.wav --algo cqt --hop 2048\n",
        "\n",
        "# KEY DETECTION (pakai audio sintetis contoh)\n",
        "!python scripts/demo_key.py data/chords_Cmaj.wav --algo stft\n",
        "\n",
        "# COVER ID (ref vs cover transpose +2)\n",
        "!python scripts/demo_cover.py data/chords_Cmaj.wav data/chords_Cmaj_cover_shift2.wav --algo cens --hop 4096"
      ],
      "metadata": {
        "colab": {
          "base_uri": "https://localhost:8080/"
        },
        "id": "-wCA0y67FwTb",
        "outputId": "ef767e2e-39e7-4d12-c77a-c37419fde27d"
      },
      "execution_count": 14,
      "outputs": [
        {
          "output_type": "stream",
          "name": "stdout",
          "text": [
            "Traceback (most recent call last):\n",
            "  File \"/content/scripts/demo_chord.py\", line 2, in <module>\n",
            "    from mir_chroma.chord_recognizer import recognize_chords\n",
            "ModuleNotFoundError: No module named 'mir_chroma'\n",
            "Traceback (most recent call last):\n",
            "  File \"/content/scripts/demo_key.py\", line 2, in <module>\n",
            "    from mir_chroma.key_detection import detect_key\n",
            "ModuleNotFoundError: No module named 'mir_chroma'\n",
            "python3: can't open file '/content/scripts/demo_cover.py': [Errno 2] No such file or directory\n"
          ]
        }
      ]
    }
  ]
}