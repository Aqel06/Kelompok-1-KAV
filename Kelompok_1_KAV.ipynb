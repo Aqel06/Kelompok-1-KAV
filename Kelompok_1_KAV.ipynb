{
  "nbformat": 4,
  "nbformat_minor": 0,
  "metadata": {
    "colab": {
      "provenance": [],
      "authorship_tag": "ABX9TyPaCBRCWFke18s6bHsejqeI",
      "include_colab_link": true
    },
    "kernelspec": {
      "name": "python3",
      "display_name": "Python 3"
    },
    "language_info": {
      "name": "python"
    }
  },
  "cells": [
    {
      "cell_type": "markdown",
      "metadata": {
        "id": "view-in-github",
        "colab_type": "text"
      },
      "source": [
        "<a href=\"https://colab.research.google.com/github/Aqel06/Kelompok-1-KAV/blob/main/Kelompok_1_KAV.ipynb\" target=\"_parent\"><img src=\"https://colab.research.google.com/assets/colab-badge.svg\" alt=\"Open In Colab\"/></a>"
      ]
    },
    {
      "cell_type": "markdown",
      "source": [
        "### Setup & Import"
      ],
      "metadata": {
        "id": "tnkXa-IdIx26"
      }
    },
    {
      "cell_type": "code",
      "source": [
        "!pip -q install librosa soundfile numpy scipy\n",
        "\n",
        "import numpy as np\n",
        "import librosa\n",
        "import librosa.display\n",
        "import soundfile as sf\n",
        "import scipy\n",
        "from scipy.spatial.distance import cdist\n",
        "import matplotlib.pyplot as plt"
      ],
      "metadata": {
        "id": "RYpsTQs3I3Be"
      },
      "execution_count": 29,
      "outputs": []
    },
    {
      "cell_type": "markdown",
      "source": [
        "### Utilitas: Tuning, Nama Nada, Circular Shift"
      ],
      "metadata": {
        "id": "m4zaz8iuI8Yq"
      }
    },
    {
      "cell_type": "code",
      "source": [
        "PITCH_CLASSES = ['C','C#','D','D#','E','F','F#','G','G#','A','A#','B']\n",
        "KEY_NAMES_MAJ = [pc + \" major\" for pc in PITCH_CLASSES]\n",
        "KEY_NAMES_MIN = [pc + \" minor\" for pc in PITCH_CLASSES]\n",
        "\n",
        "def circular_shift(vec, k):\n",
        "    \"\"\"Geser melingkar 12-D (kanan = +k).\"\"\"\n",
        "    k = int(k) % 12\n",
        "    return np.roll(vec, k)\n",
        "\n",
        "def normalize_vec(v, eps=1e-8):\n",
        "    v = np.asarray(v, float)\n",
        "    n = np.linalg.norm(v) + eps\n",
        "    return v / n\n",
        "\n",
        "def cosine_sim(a, b, eps=1e-8):\n",
        "    a = normalize_vec(a, eps)\n",
        "    b = normalize_vec(b, eps)\n",
        "    return float(np.dot(a, b))"
      ],
      "metadata": {
        "id": "LKaS7njZI-kT"
      },
      "execution_count": 30,
      "outputs": []
    },
    {
      "cell_type": "markdown",
      "source": [
        "### Sintesis Audio Chord Progression"
      ],
      "metadata": {
        "id": "QlIVVQFfJDUk"
      }
    },
    {
      "cell_type": "code",
      "source": [
        "NOTE_TO_SEMITONE = {\n",
        "    'C':0,'C#':1,'Db':1,'D':2,'D#':3,'Eb':3,'E':4,'F':5,'F#':6,'Gb':6,\n",
        "    'G':7,'G#':8,'Ab':8,'A':9,'A#':10,'Bb':10,'B':11\n",
        "}\n",
        "\n",
        "def midi_to_hz(m):\n",
        "    return 440.0 * (2.0 ** ((m - 69)/12.0))\n",
        "\n",
        "def note_to_hz(n, octave=4):\n",
        "    semitone = NOTE_TO_SEMITONE[n]\n",
        "    midi = 12*(octave+1) + semitone  # MIDI C4 = 60\n",
        "    return midi_to_hz(midi)\n",
        "\n",
        "def synth_chord(notes, dur=1.0, sr=22050, fade=0.01):\n",
        "    \"\"\"Sederhana: jumlah sinusoida untuk nada-nada chord.\"\"\"\n",
        "    t = np.linspace(0, dur, int(sr*dur), endpoint=False)\n",
        "    y = np.zeros_like(t)\n",
        "    for (n, octv) in notes:\n",
        "        f = note_to_hz(n, octv)\n",
        "        y += np.sin(2*np.pi*f*t)\n",
        "    # fade in/out kecil agar tidak klik\n",
        "    L = len(y)\n",
        "    fL = int(fade*sr)\n",
        "    if fL > 0:\n",
        "        win = np.ones(L)\n",
        "        win[:fL] = np.linspace(0,1,fL)\n",
        "        win[-fL:] = np.linspace(1,0,fL)\n",
        "        y *= win\n",
        "    y /= np.max(np.abs(y)) + 1e-8\n",
        "    return y\n",
        "\n",
        "def parse_chord(symbol):\n",
        "    \"\"\"Kembalikan pitch-class triad (root, major/minor).\"\"\"\n",
        "    root_name, quality = symbol.split(':')\n",
        "    root_pc = NOTE_TO_SEMITONE[root_name]\n",
        "    if quality.lower().startswith('maj'):\n",
        "        third = (root_pc + 4) % 12\n",
        "        fifth = (root_pc + 7) % 12\n",
        "    else:  # minor\n",
        "        third = (root_pc + 3) % 12\n",
        "        fifth = (root_pc + 7) % 12\n",
        "    return [root_pc, third, fifth]\n",
        "\n",
        "def pc_to_note(pc):\n",
        "    return PITCH_CLASSES[pc]\n",
        "\n",
        "def synth_progression(prog=('C:maj','G:maj','A:min','F:maj'),\n",
        "                      sr=22050, bpm=96, beats_per_chord=4, base_octave=4):\n",
        "    beat_dur = 60.0 / bpm\n",
        "    chord_dur = beats_per_chord * beat_dur\n",
        "    y_all = []\n",
        "    for sym in prog:\n",
        "        pcs = parse_chord(sym)\n",
        "        # voicing sederhana: root di bass (octave 3), lainnya di 4\n",
        "        notes = [(pc_to_note(pcs[0]), base_octave-1),\n",
        "                 (pc_to_note(pcs[1]), base_octave),\n",
        "                 (pc_to_note(pcs[2]), base_octave)]\n",
        "        y = synth_chord(notes, dur=chord_dur, sr=sr, fade=0.02)\n",
        "        y_all.append(y)\n",
        "    y_all = np.concatenate(y_all)\n",
        "    y_all /= np.max(np.abs(y_all)) + 1e-8\n",
        "    return y_all, sr"
      ],
      "metadata": {
        "id": "fO6aa6OkJHTA"
      },
      "execution_count": 31,
      "outputs": []
    },
    {
      "cell_type": "markdown",
      "source": [
        "### Muat Audio (atau Sintesis)"
      ],
      "metadata": {
        "id": "EJHJ5mu6JKMN"
      }
    },
    {
      "cell_type": "code",
      "source": [
        "AUDIO_PATH = None\n",
        "if AUDIO_PATH is None:\n",
        "    y, sr = synth_progression()\n",
        "else:\n",
        "    y, sr = librosa.load(AUDIO_PATH, sr=None, mono=True)\n",
        "\n",
        "# HPSS agar chroma lebih stabil (fokus komponen harmonik)\n",
        "y_h, y_p = librosa.effects.hpss(y)\n"
      ],
      "metadata": {
        "id": "zyU_V0wKJNVQ"
      },
      "execution_count": 32,
      "outputs": []
    },
    {
      "cell_type": "markdown",
      "source": [
        "### Hitung CHROMA (CQT) + Beat-Synchronous"
      ],
      "metadata": {
        "id": "fK1fwgUjJQ_J"
      }
    },
    {
      "cell_type": "code",
      "source": [
        "# Chroma 12-D\n",
        "chroma = librosa.feature.chroma_cqt(y=y_h, sr=sr, n_chroma=12)\n",
        "chroma = librosa.util.normalize(chroma, axis=0)\n",
        "\n",
        "# Beat-synchronous median (lebih stabil untuk akor/kover)\n",
        "tempo, beats = librosa.beat.beat_track(y=y_h, sr=sr, trim=False)\n",
        "beats = librosa.util.fix_frames(beats, x_min=0, x_max=chroma.shape[1]-1)\n",
        "chroma_beat = librosa.util.sync(chroma, beats, aggregate=np.median)  # 12 x T_beats\n",
        "\n",
        "print(\"chroma shape:\", chroma.shape, \"| beat-sync:\", chroma_beat.shape)"
      ],
      "metadata": {
        "colab": {
          "base_uri": "https://localhost:8080/"
        },
        "id": "ow1om2VHJTbs",
        "outputId": "0db61dda-ce2e-4836-ce10-7cb755b778d0"
      },
      "execution_count": 33,
      "outputs": [
        {
          "output_type": "stream",
          "name": "stdout",
          "text": [
            "chroma shape: (12, 431) | beat-sync: (12, 2)\n"
          ]
        }
      ]
    },
    {
      "cell_type": "code",
      "source": [
        "plt.figure(figsize=(9,3))\n",
        "librosa.display.specshow(chroma, x_axis='time', y_axis='chroma', sr=sr)\n",
        "plt.title(\"Chroma (12-D)\")\n",
        "plt.tight_layout(); plt.show()"
      ],
      "metadata": {
        "colab": {
          "base_uri": "https://localhost:8080/",
          "height": 216
        },
        "id": "P-54BNKvJWKN",
        "outputId": "765ea9f1-bef5-48bb-80a7-9a40d10fb1b7"
      },
      "execution_count": 34,
      "outputs": [
        {
          "output_type": "display_data",
          "data": {
            "text/plain": [
              "<Figure size 900x300 with 1 Axes>"
            ],
            "image/png": "[encoded data removed]"
          },
          "metadata": {}
        }
      ]
    },
    {
      "cell_type": "markdown",
      "source": [
        "### KEY DETECTION (Scale-based templates — Krumhansl)"
      ],
      "metadata": {
        "id": "dIG4kQItJZnl"
      }
    },
    {
      "cell_type": "code",
      "source": [
        "# Profil Krumhansl-Schmuckler (normalisasi relatif)\n",
        "# Sumber umum (skala relatif). Kamu bisa men-tweak bobot.\n",
        "KS_MAJOR = np.array([6.35,2.23,3.48,2.33,4.38,4.09,2.52,5.19,2.39,3.66,2.29,2.88], float)\n",
        "KS_MINOR = np.array([6.33,2.68,3.52,5.38,2.60,3.53,2.54,4.75,3.98,2.69,3.34,3.17], float)\n",
        "\n",
        "def estimate_key_from_chroma(chroma_mat):\n",
        "    \"\"\"Ambil mean chroma global → korelasikan ke 24 profil (12 mayor + 12 minor).\"\"\"\n",
        "    avg_c = normalize_vec(np.mean(chroma_mat, axis=1))\n",
        "    best_sim = -1\n",
        "    best_key = None\n",
        "\n",
        "    for k in range(12):\n",
        "        profM = normalize_vec(circular_shift(KS_MAJOR, k))\n",
        "        profm = normalize_vec(circular_shift(KS_MINOR, k))\n",
        "        sM = cosine_sim(avg_c, profM)\n",
        "        sm = cosine_sim(avg_c, profm)\n",
        "        if sM > best_sim:\n",
        "            best_sim = sM\n",
        "            best_key = KEY_NAMES_MAJ[k]\n",
        "        if sm > best_sim:\n",
        "            best_sim = sm\n",
        "            best_key = KEY_NAMES_MIN[k]\n",
        "    return best_key, best_sim\n",
        "\n",
        "key_name, key_score = estimate_key_from_chroma(chroma_beat)\n",
        "print(f\"Estimasi Kunci: {key_name} (skor={key_score:.3f})\")"
      ],
      "metadata": {
        "colab": {
          "base_uri": "https://localhost:8080/"
        },
        "id": "2r8Boh6BJbM0",
        "outputId": "08ef98bc-b602-4888-8315-d87ea88d900c"
      },
      "execution_count": 35,
      "outputs": [
        {
          "output_type": "stream",
          "name": "stdout",
          "text": [
            "Estimasi Kunci: C major (skor=0.880)\n"
          ]
        }
      ]
    },
    {
      "cell_type": "markdown",
      "source": [
        "### CHORD RECOGNITION (Chord-based templates — triad mayor/minor)"
      ],
      "metadata": {
        "id": "rDHd3NkvJi_8"
      }
    },
    {
      "cell_type": "code",
      "source": [
        "def build_triads_templates():\n",
        "    \"\"\"Bangun 24 template akor (12 mayor, 12 minor)  → matriks 24 x 12.\"\"\"\n",
        "    templates = []\n",
        "    names = []\n",
        "    base_maj = np.zeros(12); base_maj[[0,4,7]] = [1.0, 0.8, 0.9]  # root > fifth > third (contoh bobot)\n",
        "    base_min = np.zeros(12); base_min[[0,3,7]] = [1.0, 0.8, 0.9]\n",
        "    for k in range(12):\n",
        "        tM = circular_shift(base_maj, k)\n",
        "        templates.append(tM)\n",
        "        names.append(PITCH_CLASSES[k] + \":maj\")\n",
        "    for k in range(12):\n",
        "        tm = circular_shift(base_min, k)\n",
        "        templates.append(tm)\n",
        "        names.append(PITCH_CLASSES[k] + \":min\")\n",
        "    templates = np.stack(templates, axis=0)\n",
        "    # normalisasi tiap template\n",
        "    templates = np.array([normalize_vec(t) for t in templates])\n",
        "    return templates, names\n",
        "\n",
        "TEMPL, CHORD_NAMES = build_triads_templates()\n",
        "\n",
        "def decode_chords(chroma_sync):\n",
        "    \"\"\"Cocokkan tiap kolom (beat) ke template akor (cosine sim).\"\"\"\n",
        "    T = chroma_sync.shape[1]\n",
        "    labels = []\n",
        "    scores = []\n",
        "    for t in range(T):\n",
        "        v = normalize_vec(chroma_sync[:, t])\n",
        "        sims = TEMPL @ v\n",
        "        idx = int(np.argmax(sims))\n",
        "        labels.append(CHORD_NAMES[idx])\n",
        "        scores.append(float(sims[idx]))\n",
        "    return labels, scores\n",
        "\n",
        "chords, chord_scores = decode_chords(chroma_beat)\n",
        "for i, (c, s) in enumerate(zip(chords[:12], chord_scores[:12])):\n",
        "    print(f\"Beat {i:02d}: {c} (sim={s:.2f})\")"
      ],
      "metadata": {
        "colab": {
          "base_uri": "https://localhost:8080/"
        },
        "id": "o1GTAHfLJkZi",
        "outputId": "b0eeb72f-fef4-4a63-8c49-040a9358cd02"
      },
      "execution_count": 36,
      "outputs": [
        {
          "output_type": "stream",
          "name": "stdout",
          "text": [
            "Beat 00: C:maj (sim=0.93)\n",
            "Beat 01: F:maj (sim=0.94)\n"
          ]
        }
      ]
    },
    {
      "cell_type": "markdown",
      "source": [
        "### COVER SONG IDENTIFICATION (PTR-style: transposition + time alignment)"
      ],
      "metadata": {
        "id": "xhVDGKFAJpL3"
      }
    },
    {
      "cell_type": "markdown",
      "source": [
        "Siapkan “lagu B” sebagai “cover” (transposisi + stretch)"
      ],
      "metadata": {
        "id": "SoDlTuDIKHE1"
      }
    },
    {
      "cell_type": "code",
      "source": [
        "yA, srA = y_h, sr\n",
        "# Simulasikan cover: transpose +2 semitone & sedikit rubato (time-stretch)\n",
        "yB = librosa.effects.pitch_shift(yA, sr=srA, n_steps=2)\n",
        "yB = librosa.effects.time_stretch(yB, rate=0.95)\n",
        "\n",
        "# Chroma beat-synchronous keduanya\n",
        "def beat_chroma(y, sr):\n",
        "    ch = librosa.feature.chroma_cqt(y=y, sr=sr, n_chroma=12)\n",
        "    ch = librosa.util.normalize(ch, axis=0)\n",
        "    _, beats = librosa.beat.beat_track(y=y, sr=sr, trim=False)\n",
        "    beats = librosa.util.fix_frames(beats, x_min=0, x_max=ch.shape[1]-1)\n",
        "    ch_b = librosa.util.sync(ch, beats, aggregate=np.median)\n",
        "    return ch_b\n",
        "\n",
        "XA = beat_chroma(yA, srA)  # 12 x TA\n",
        "XB = beat_chroma(yB, srA)  # 12 x TB\n",
        "print(\"Beat-chroma shapes:\", XA.shape, XB.shape)"
      ],
      "metadata": {
        "colab": {
          "base_uri": "https://localhost:8080/"
        },
        "id": "dceJ8HBFJwh_",
        "outputId": "737d2b95-76d3-4d63-b2a0-87f697d0b165"
      },
      "execution_count": 37,
      "outputs": [
        {
          "output_type": "stream",
          "name": "stdout",
          "text": [
            "Beat-chroma shapes: (12, 2) (12, 2)\n"
          ]
        }
      ]
    },
    {
      "cell_type": "markdown",
      "source": [
        "Optimal Transposition Index (OTI)"
      ],
      "metadata": {
        "id": "IaHyrHMYKMUM"
      }
    },
    {
      "cell_type": "code",
      "source": [
        "def optimal_transposition_index(A, B):\n",
        "    \"\"\"Cari shift 0..11 yang memaksimalkan kemiripan rata-rata antar frame (kasar).\"\"\"\n",
        "    # Samakan panjang dengan min(TA, TB) untuk estimasi cepat\n",
        "    T = min(A.shape[1], B.shape[1])\n",
        "    A1 = A[:, :T]; B1 = B[:, :T]\n",
        "    best_k, best_sim = 0, -1\n",
        "    for k in range(12):\n",
        "        Bk = np.roll(B1, k, axis=0)\n",
        "        # cosine sim per frame, lalu rata-rata\n",
        "        sims = np.sum(normalize_vec(A1,1e-8)*normalize_vec(Bk,1e-8), axis=0)\n",
        "        s = float(np.mean(sims))\n",
        "        if s > best_sim:\n",
        "            best_sim = s\n",
        "            best_k = k\n",
        "    return best_k, best_sim\n",
        "\n",
        "oti, rough_sim = optimal_transposition_index(XA, XB)\n",
        "print(f\"OTI (shift pitch-class terbaik) = +{oti} semitone-class, mean-sim ~ {rough_sim:.3f}\")"
      ],
      "metadata": {
        "colab": {
          "base_uri": "https://localhost:8080/"
        },
        "id": "oxvThaCvJ_gC",
        "outputId": "2ea71862-c51e-4b93-eb2f-43d4c6ea241e"
      },
      "execution_count": 38,
      "outputs": [
        {
          "output_type": "stream",
          "name": "stdout",
          "text": [
            "OTI (shift pitch-class terbaik) = +10 semitone-class, mean-sim ~ 0.487\n"
          ]
        }
      ]
    },
    {
      "cell_type": "markdown",
      "source": [
        "DTW setelah transposition alignment"
      ],
      "metadata": {
        "id": "eqdnBwJZKOVh"
      }
    },
    {
      "cell_type": "code",
      "source": [
        "# Rotasi XB sesuai OTI\n",
        "XB_shift = np.roll(XB, oti, axis=0)\n",
        "\n",
        "# Normalisasi kolom (tiap beat vektor 12-D)\n",
        "def col_norm(X, eps=1e-8):\n",
        "    Xn = X.copy()\n",
        "    for i in range(X.shape[1]):\n",
        "        n = np.linalg.norm(X[:, i]) + eps\n",
        "        Xn[:, i] /= n\n",
        "    return Xn\n",
        "\n",
        "XA_n = col_norm(XA)\n",
        "XB_n = col_norm(XB_shift)\n",
        "\n",
        "# Hitung \"jarak\" antar beat: 1 - cosine\n",
        "D = 1.0 - (XA_n.T @ XB_n)  # (TA x TB)\n",
        "\n",
        "# DTW (cost minimal)\n",
        "# (librosa >= 0.10): librosa.sequence.dtw\n",
        "wp, cost_mat = librosa.sequence.dtw(C=D, subseq=True)  # subseq: cover bisa lebih pendek\n",
        "wp = wp.astype(int) # Convert to integer type\n",
        "dtw_cost = cost_mat[wp[-1,0], wp[-1,1]]\n",
        "# Skor kemiripan sederhana\n",
        "sim_score = 1.0 / (1.0 + dtw_cost / (len(wp)+1e-8))\n",
        "print(f\"DTW cost = {dtw_cost:.2f} → similarity score ≈ {sim_score:.3f}\")"
      ],
      "metadata": {
        "colab": {
          "base_uri": "https://localhost:8080/"
        },
        "id": "sD9i2PhdKPWZ",
        "outputId": "5a6b5a6d-6f74-4789-f5ff-e6e207238e63"
      },
      "execution_count": 39,
      "outputs": [
        {
          "output_type": "stream",
          "name": "stdout",
          "text": [
            "DTW cost = 1.00 → similarity score ≈ 0.667\n"
          ]
        }
      ]
    },
    {
      "cell_type": "markdown",
      "source": [
        "Pitch Transition Representation (12×12)"
      ],
      "metadata": {
        "id": "ns7_HLZYKYs5"
      }
    },
    {
      "cell_type": "code",
      "source": [
        "def pitch_transition_matrix(chroma_sync):\n",
        "    \"\"\"Bangun matriks transisi 12x12 dari urutan pitch-class dominan per beat.\"\"\"\n",
        "    # ambil argmax per beat → urutan pitch class\n",
        "    seq = np.argmax(chroma_sync, axis=0)\n",
        "    M = np.zeros((12,12), float)\n",
        "    for i in range(len(seq)-1):\n",
        "        a, b = seq[i], seq[i+1]\n",
        "        M[a, b] += 1.0\n",
        "    # normalisasi baris (probabilitas transisi)\n",
        "    row_sums = M.sum(axis=1, keepdims=True) + 1e-8\n",
        "    M /= row_sums\n",
        "    return M\n",
        "\n",
        "MA = pitch_transition_matrix(XA)\n",
        "MB = pitch_transition_matrix(XB_shift)\n",
        "\n",
        "# cari rotasi terbaik (0..11) untuk meminimalkan jarak Frobenius\n",
        "best_k, best_dist = 0, 1e9\n",
        "for k in range(12):\n",
        "    MBk = np.roll(np.roll(MB, k, axis=0), k, axis=1)  # rotasi baris & kolom\n",
        "    dist = np.linalg.norm(MA - MBk, ord='fro')\n",
        "    if dist < best_dist:\n",
        "        best_k, best_dist = k, dist\n",
        "\n",
        "print(f\"PTR/Transition match best-shift=+{best_k}, Frobenius dist={best_dist:.3f}\")"
      ],
      "metadata": {
        "colab": {
          "base_uri": "https://localhost:8080/"
        },
        "id": "SLp0-feWKa2c",
        "outputId": "9d5e765f-5753-4c1e-8f90-a818080a4b2c"
      },
      "execution_count": 40,
      "outputs": [
        {
          "output_type": "stream",
          "name": "stdout",
          "text": [
            "PTR/Transition match best-shift=+0, Frobenius dist=1.414\n"
          ]
        }
      ]
    }
  ]
}